{
 "cells": [
  {
   "cell_type": "code",
   "execution_count": 1,
   "id": "98a2c40c-daae-4971-afb5-771e191ba187",
   "metadata": {},
   "outputs": [],
   "source": [
    "val times = listOf(1.238, 1.258, 1.390, 1.255, 1.233, 1.220, 1.252, 1.252, 1.254, 1.294)"
   ]
  },
  {
   "cell_type": "code",
   "execution_count": 40,
   "id": "fd579a81-6b06-49b2-b1d9-8bdf65a9f414",
   "metadata": {},
   "outputs": [
    {
     "data": {
      "text/plain": [
       "1.265"
      ]
     },
     "execution_count": 40,
     "metadata": {},
     "output_type": "execute_result"
    }
   ],
   "source": [
    "val timeAvg = Math.ceil(times.average() * 1000) / 1000\n",
    "timeAvg"
   ]
  },
  {
   "cell_type": "code",
   "execution_count": 22,
   "id": "a4eb84cf-b879-4623-b990-39b4717ca566",
   "metadata": {},
   "outputs": [
    {
     "data": {
      "text/html": [
       "   <div id=\"ageTww\"></div>\n",
       "   <script type=\"text/javascript\" data-lets-plot-script=\"library\">\n",
       "       if(!window.letsPlotCallQueue) {\n",
       "           window.letsPlotCallQueue = [];\n",
       "       }; \n",
       "       window.letsPlotCall = function(f) {\n",
       "           window.letsPlotCallQueue.push(f);\n",
       "       };\n",
       "       (function() {\n",
       "           var script = document.createElement(\"script\");\n",
       "           script.type = \"text/javascript\";\n",
       "           script.src = \"https://cdn.jsdelivr.net/gh/JetBrains/lets-plot@v4.3.2/js-package/distr/lets-plot.min.js\";\n",
       "           script.onload = function() {\n",
       "               window.letsPlotCall = function(f) {f();};\n",
       "               window.letsPlotCallQueue.forEach(function(f) {f();});\n",
       "               window.letsPlotCallQueue = [];\n",
       "               \n",
       "               \n",
       "           };\n",
       "           script.onerror = function(event) {\n",
       "               window.letsPlotCall = function(f) {};\n",
       "               window.letsPlotCallQueue = [];\n",
       "               var div = document.createElement(\"div\");\n",
       "               div.style.color = 'darkred';\n",
       "               div.textContent = 'Error loading Lets-Plot JS';\n",
       "               document.getElementById(\"ageTww\").appendChild(div);\n",
       "           };\n",
       "           var e = document.getElementById(\"ageTww\");\n",
       "           e.appendChild(script);\n",
       "       })();\n",
       "   </script>"
      ]
     },
     "metadata": {},
     "output_type": "display_data"
    }
   ],
   "source": [
    "%use lets-plot"
   ]
  },
  {
   "cell_type": "code",
   "execution_count": 12,
   "id": "8af6175f-b48b-4a0c-a4c6-6767105f3bee",
   "metadata": {},
   "outputs": [
    {
     "data": {
      "text/plain": [
       "[0, 1, 2, 3, 4, 5, 6, 7, 8, 9]"
      ]
     },
     "execution_count": 12,
     "metadata": {},
     "output_type": "execute_result"
    }
   ],
   "source": [
    "List(10){it}"
   ]
  },
  {
   "cell_type": "code",
   "execution_count": 26,
   "id": "1433a1f5-0f7b-420f-bb7f-ffe67fa4ac4e",
   "metadata": {},
   "outputs": [
    {
     "data": {
      "text/html": [
       "   <div id=\"jf8lUV\"></div>\n",
       "   <script type=\"text/javascript\" data-lets-plot-script=\"plot\">\n",
       "       (function() {\n",
       "           var plotSpec={\n",
       "\"mapping\":{\n",
       "\"x\":\"how\",\n",
       "\"y\":\"time\"\n",
       "},\n",
       "\"data\":{\n",
       "\"how\":[0.0,1.0,2.0,3.0,4.0,5.0,6.0,7.0,8.0,9.0],\n",
       "\"time\":[1.238,1.258,1.39,1.255,1.233,1.22,1.252,1.252,1.254,1.294]\n",
       "},\n",
       "\"ggsize\":{\n",
       "\"width\":700.0,\n",
       "\"height\":350.0\n",
       "},\n",
       "\"kind\":\"plot\",\n",
       "\"scales\":[],\n",
       "\"layers\":[{\n",
       "\"mapping\":{\n",
       "},\n",
       "\"stat\":\"identity\",\n",
       "\"color\":\"dark_green\",\n",
       "\"alpha\":0.3,\n",
       "\"position\":\"identity\",\n",
       "\"geom\":\"point\",\n",
       "\"data\":{\n",
       "}\n",
       "},{\n",
       "\"mapping\":{\n",
       "},\n",
       "\"stat\":\"smooth\",\n",
       "\"se\":false,\n",
       "\"position\":\"identity\",\n",
       "\"geom\":\"smooth\",\n",
       "\"data\":{\n",
       "\"how\":[0.0,0.11392405063291139,0.22784810126582278,0.34177215189873417,0.45569620253164556,0.5696202531645569,0.6835443037974683,0.7974683544303798,0.9113924050632911,1.0253164556962024,1.1392405063291138,1.2531645569620253,1.3670886075949367,1.481012658227848,1.5949367088607596,1.7088607594936709,1.8227848101265822,1.9367088607594936,2.050632911392405,2.1645569620253164,2.2784810126582276,2.392405063291139,2.5063291139240507,2.620253164556962,2.7341772151898733,2.848101265822785,2.962025316455696,3.0759493670886076,3.189873417721519,3.3037974683544302,3.4177215189873418,3.531645569620253,3.6455696202531644,3.759493670886076,3.873417721518987,3.9873417721518987,4.10126582278481,4.215189873417722,4.329113924050633,4.443037974683544,4.556962025316455,4.670886075949367,4.784810126582278,4.898734177215189,5.012658227848101,5.1265822784810124,5.240506329113924,5.3544303797468356,5.468354430379747,5.582278481012658,5.69620253164557,5.810126582278481,5.924050632911392,6.037974683544304,6.151898734177215,6.265822784810126,6.379746835443038,6.493670886075949,6.6075949367088604,6.721518987341772,6.8354430379746836,6.949367088607595,7.063291139240506,7.177215189873418,7.291139240506329,7.40506329113924,7.518987341772152,7.632911392405063,7.746835443037974,7.860759493670886,7.974683544303797,8.08860759493671,8.20253164556962,8.316455696202532,8.430379746835444,8.544303797468354,8.658227848101266,8.772151898734178,8.886075949367088,9.0],\n",
       "\"time\":[1.2710363636363637,1.270873417721519,1.2707104718066744,1.2705475258918297,1.270384579976985,1.2702216340621404,1.270058688147296,1.2698957422324513,1.2697327963176066,1.269569850402762,1.2694069044879173,1.2692439585730726,1.269081012658228,1.2689180667433833,1.2687551208285386,1.268592174913694,1.2684292289988495,1.2682662830840048,1.2681033371691601,1.2679403912543155,1.2677774453394708,1.2676144994246261,1.2674515535097814,1.2672886075949368,1.267125661680092,1.2669627157652474,1.266799769850403,1.2666368239355583,1.2664738780207137,1.266310932105869,1.2661479861910243,1.2659850402761796,1.265822094361335,1.2656591484464903,1.2654962025316456,1.265333256616801,1.2651703107019565,1.2650073647871118,1.2648444188722672,1.2646814729574225,1.2645185270425778,1.2643555811277332,1.2641926352128885,1.2640296892980438,1.2638667433831992,1.2637037974683545,1.2635408515535098,1.2633779056386654,1.2632149597238207,1.263052013808976,1.2628890678941314,1.2627261219792867,1.262563176064442,1.2624002301495973,1.2622372842347527,1.262074338319908,1.2619113924050633,1.261748446490219,1.2615855005753742,1.2614225546605295,1.2612596087456849,1.2610966628308402,1.2609337169159955,1.2607707710011509,1.2606078250863062,1.2604448791714615,1.2602819332566169,1.2601189873417724,1.2599560414269277,1.259793095512083,1.2596301495972384,1.2594672036823937,1.259304257767549,1.2591413118527044,1.2589783659378597,1.258815420023015,1.2586524741081704,1.258489528193326,1.2583265822784813,1.2581636363636366]\n",
       "}\n",
       "}]\n",
       "};\n",
       "           var plotContainer = document.getElementById(\"jf8lUV\");\n",
       "           window.letsPlotCall(function() {{\n",
       "               LetsPlot.buildPlotFromProcessedSpecs(plotSpec, -1, -1, plotContainer);\n",
       "           }});\n",
       "       })();\n",
       "   </script>"
      ]
     },
     "execution_count": 26,
     "metadata": {},
     "output_type": "execute_result"
    }
   ],
   "source": [
    "\n",
    "\n",
    "var plot = letsPlot(mapOf(\"time\" to times, \"how\" to List(10){it})){x = \"how\"\n",
    "    y = \"time\"\n",
    "}\n",
    "plot += geomPoint(color = \"dark_green\", alpha = .3) + geomSmooth(se = false)\n",
    "\n",
    "\n",
    "plot + ggsize(700, 350)"
   ]
  },
  {
   "cell_type": "code",
   "execution_count": 54,
   "id": "e555798d-23fa-4f42-bf5d-0c962e6364c1",
   "metadata": {},
   "outputs": [],
   "source": [
    "val (md,mo, mk) = listOf(0.132, 0.035, 0.390)"
   ]
  },
  {
   "cell_type": "code",
   "execution_count": 30,
   "id": "6407e285-28c6-4240-b37f-d781832d746d",
   "metadata": {},
   "outputs": [],
   "source": [
    "val g = 9.807"
   ]
  },
  {
   "cell_type": "code",
   "execution_count": 55,
   "id": "02cae1c6-7956-454f-9c3e-e00b73b75914",
   "metadata": {},
   "outputs": [
    {
     "data": {
      "text/plain": [
       "0.557"
      ]
     },
     "execution_count": 55,
     "metadata": {},
     "output_type": "execute_result"
    }
   ],
   "source": [
    "val m = md + mo + mk\n",
    "m"
   ]
  },
  {
   "cell_type": "code",
   "execution_count": 59,
   "id": "6fab4afd-713e-49c9-ba48-72f5ea7cf2da",
   "metadata": {},
   "outputs": [],
   "source": [
    "val r = 0.005 // радиус оси\n",
    "val rn = 0.0006 // радиус нити\n",
    "val r1 = 0.0425 // радиус диска\n",
    "val r2 = 0.0525\n",
    "val h0 = 0.16"
   ]
  },
  {
   "cell_type": "code",
   "execution_count": 60,
   "id": "511f54a9-a5e4-4120-8e60-61b4728acac4",
   "metadata": {},
   "outputs": [
    {
     "data": {
      "text/plain": [
       "8.391727713029498E-4"
      ]
     },
     "execution_count": 60,
     "metadata": {},
     "output_type": "execute_result"
    }
   ],
   "source": [
    "val I = m * Math.pow(r + rn, 2.0) * ((g * timeAvg * timeAvg)/(2.0 * h0) - 1.0)\n",
    "I"
   ]
  },
  {
   "cell_type": "code",
   "execution_count": 61,
   "id": "424b9c34-2b60-47fd-82cc-c038501c5a65",
   "metadata": {},
   "outputs": [
    {
     "data": {
      "text/plain": [
       "1.1921250000000002E-4"
      ]
     },
     "execution_count": 61,
     "metadata": {},
     "output_type": "execute_result"
    }
   ],
   "source": [
    "val Id = (md * r1 * r1) / 2\n",
    "Id"
   ]
  },
  {
   "cell_type": "code",
   "execution_count": 62,
   "id": "f64f4abf-bb24-4f0d-ac4f-dbd2aef95eb7",
   "metadata": {},
   "outputs": [
    {
     "data": {
      "text/plain": [
       "8.896875E-4"
      ]
     },
     "execution_count": 62,
     "metadata": {},
     "output_type": "execute_result"
    }
   ],
   "source": [
    "val Ik = (mk / 2) * (r1 * r1 + r2 * r2)\n",
    "Ik"
   ]
  }
 ],
 "metadata": {
  "kernelspec": {
   "display_name": "Kotlin",
   "language": "kotlin",
   "name": "kotlin"
  },
  "language_info": {
   "codemirror_mode": "text/x-kotlin",
   "file_extension": ".kt",
   "mimetype": "text/x-kotlin",
   "name": "kotlin",
   "nbconvert_exporter": "",
   "pygments_lexer": "kotlin",
   "version": "1.9.23"
  }
 },
 "nbformat": 4,
 "nbformat_minor": 5
}
